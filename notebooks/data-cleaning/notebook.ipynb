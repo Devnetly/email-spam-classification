{
 "cells": [
  {
   "cell_type": "markdown",
   "id": "daf7e5b1",
   "metadata": {},
   "source": [
    "<figure style=\"margin-left: 20px; margin-right: 20px;\">\n",
    "  <img src=\"../figures/logo-esi-sba.png\" width=\"256\" height=\"256\" align=\"right\" alt=\"Logo\">\n",
    "</figure>\n",
    "\n",
    "# Email spam classification using semi-supervised learning techniques\n",
    "\n",
    "*Directed by* \n",
    "- Fellah Abdnour (ab.fellah@esi-sba.dz) \n",
    "- Benyamina Yacine Lazreg (yl.benyamina@esi-sba.dz) \n",
    "- Mokadem Adel Abdelkader (aa.mokadem@esi-sba.dz) \n",
    "- Benounene Abdelrahmane (a.benounene@esi-sba.dz) "
   ]
  },
  {
   "cell_type": "markdown",
   "id": "4a3345c9-c49b-493d-bd24-c4f9ccb9a5e4",
   "metadata": {},
   "source": [
    "# Notebook 1: Data Cleaning\n",
    "\n",
    "In this initial notebook, the focus is on the task of data cleaning. This section addresses data qualityissues, such as missing values, outliers, and inconsistencies."
   ]
  },
  {
   "cell_type": "markdown",
   "id": "0f067d4d-e84e-416d-91a4-fee8d3553ccc",
   "metadata": {},
   "source": [
    "## Outline"
   ]
  },
  {
   "cell_type": "markdown",
   "id": "d309cd85-55c2-4d4f-aaaf-753bb9c97452",
   "metadata": {},
   "source": [
    "- [Necessary packages](#necessary_packages)\n",
    "- [Data loading](#data_loading)\n",
    "- [Getting familiar with the data](#getting_familiar_with_the_data)\n",
    "- [Handeling missing values](#handeling_missing_values)\n",
    "- [Removing irrelevant columns](#remove_irrelevant_columns)\n",
    "- [Handeling duplicates](#handeling_duplicates)\n",
    "- [Columns renaming](#columns_renaming)\n",
    "- [Feature extraction](#feature_extraction)\n",
    "- [Text cleaning and preprocessing](#text_cleaning_and_preprocessing)\n",
    "- [Outliers Handeling](#outliers_handeling)\n",
    "- [Removing data representation inconsistenties](#removing_data_representation_inconsistenties)\n",
    "- [Save the results to the disk](#save_the_results_to_the_disk)"
   ]
  },
  {
   "cell_type": "markdown",
   "id": "aa796187-a9fc-445f-aae0-674b65e151fe",
   "metadata": {},
   "source": [
    "<div id=\"necessary_packages\" >\n",
    "    <h3>Necessary packages</h3>\n",
    "</div>"
   ]
  },
  {
   "cell_type": "code",
   "execution_count": 1,
   "id": "062a2be4-5d81-474d-8e50-31c3434ed352",
   "metadata": {},
   "outputs": [],
   "source": [
    "import numpy as np\n",
    "import pandas as pd\n",
    "import nltk\n",
    "import os\n",
    "import string\n",
    "import re\n",
    "from tqdm.notebook import tqdm\n",
    "from IPython.display import HTML,display\n",
    "from sklearn.feature_extraction.text import CountVectorizer\n",
    "from sklearn.ensemble import IsolationForest\n",
    "from sklearn.pipeline import Pipeline"
   ]
  },
  {
   "cell_type": "code",
   "execution_count": 2,
   "id": "c41eb292-8c07-4500-8458-19cd60fec33a",
   "metadata": {},
   "outputs": [],
   "source": [
    "tqdm.pandas()"
   ]
  },
  {
   "cell_type": "markdown",
   "id": "032f55a2-d0e3-4951-b33f-6f0cc8150b8f",
   "metadata": {},
   "source": [
    "<div id=\"data_loading\" >\n",
    "    <h3>Data loading</h3>\n",
    "</div>"
   ]
  },
  {
   "cell_type": "code",
   "execution_count": 3,
   "id": "f8bb6078-0589-4434-b4af-1ff2caf6554d",
   "metadata": {},
   "outputs": [],
   "source": [
    "path = os.path.join(\"..\",\"data\",\"spam.csv\")\n",
    "df = pd.read_csv(path, encoding=\"iso-8859-1\")"
   ]
  },
  {
   "cell_type": "markdown",
   "id": "4bd4f298-f36c-481b-bf24-b3da65aece7b",
   "metadata": {},
   "source": [
    "<div id=\"getting_familiar_with_the_data\" >\n",
    "    <h3>Getting familiar with the data</h3>\n",
    "</div>"
   ]
  },
  {
   "cell_type": "code",
   "execution_count": 4,
   "id": "e27b1ffe-8566-492c-855a-396c70d78735",
   "metadata": {},
   "outputs": [
    {
     "data": {
      "text/html": [
       "<div>\n",
       "<style scoped>\n",
       "    .dataframe tbody tr th:only-of-type {\n",
       "        vertical-align: middle;\n",
       "    }\n",
       "\n",
       "    .dataframe tbody tr th {\n",
       "        vertical-align: top;\n",
       "    }\n",
       "\n",
       "    .dataframe thead th {\n",
       "        text-align: right;\n",
       "    }\n",
       "</style>\n",
       "<table border=\"1\" class=\"dataframe\">\n",
       "  <thead>\n",
       "    <tr style=\"text-align: right;\">\n",
       "      <th></th>\n",
       "      <th>Unnamed: 0</th>\n",
       "      <th>label</th>\n",
       "      <th>text</th>\n",
       "    </tr>\n",
       "  </thead>\n",
       "  <tbody>\n",
       "    <tr>\n",
       "      <th>326</th>\n",
       "      <td>2305</td>\n",
       "      <td>-1</td>\n",
       "      <td>Subject: enron actuals for dec . 27 , 2000\\r\\n...</td>\n",
       "    </tr>\n",
       "    <tr>\n",
       "      <th>4109</th>\n",
       "      <td>684</td>\n",
       "      <td>ham</td>\n",
       "      <td>Subject: entex - may\\r\\ni would assume 40000 f...</td>\n",
       "    </tr>\n",
       "    <tr>\n",
       "      <th>4131</th>\n",
       "      <td>1195</td>\n",
       "      <td>-1</td>\n",
       "      <td>Subject: new paycheck information !\\r\\nintrodu...</td>\n",
       "    </tr>\n",
       "    <tr>\n",
       "      <th>2143</th>\n",
       "      <td>4034</td>\n",
       "      <td>-1</td>\n",
       "      <td>Subject: italian rolex in throw away prices . ...</td>\n",
       "    </tr>\n",
       "    <tr>\n",
       "      <th>3177</th>\n",
       "      <td>40</td>\n",
       "      <td>-1</td>\n",
       "      <td>Subject: holiday on - call data\\r\\npipeline co...</td>\n",
       "    </tr>\n",
       "  </tbody>\n",
       "</table>\n",
       "</div>"
      ],
      "text/plain": [
       "      Unnamed: 0 label                                               text\n",
       "326         2305    -1  Subject: enron actuals for dec . 27 , 2000\\r\\n...\n",
       "4109         684   ham  Subject: entex - may\\r\\ni would assume 40000 f...\n",
       "4131        1195    -1  Subject: new paycheck information !\\r\\nintrodu...\n",
       "2143        4034    -1  Subject: italian rolex in throw away prices . ...\n",
       "3177          40    -1  Subject: holiday on - call data\\r\\npipeline co..."
      ]
     },
     "execution_count": 4,
     "metadata": {},
     "output_type": "execute_result"
    }
   ],
   "source": [
    "df.sample(5)"
   ]
  },
  {
   "cell_type": "code",
   "execution_count": 5,
   "id": "262b3b2b-e15f-47d5-9206-37d47db2daab",
   "metadata": {},
   "outputs": [
    {
     "data": {
      "text/plain": [
       "Unnamed: 0     int64\n",
       "label         object\n",
       "text          object\n",
       "dtype: object"
      ]
     },
     "execution_count": 5,
     "metadata": {},
     "output_type": "execute_result"
    }
   ],
   "source": [
    "df.dtypes"
   ]
  },
  {
   "cell_type": "code",
   "execution_count": 6,
   "id": "73cad657-c7b7-45cf-b806-b7c78635a623",
   "metadata": {},
   "outputs": [
    {
     "data": {
      "text/plain": [
       "(5171, 3)"
      ]
     },
     "execution_count": 6,
     "metadata": {},
     "output_type": "execute_result"
    }
   ],
   "source": [
    "df.shape"
   ]
  },
  {
   "cell_type": "markdown",
   "id": "61c0a58a-dae1-42ee-b8a8-f790acde6ddf",
   "metadata": {},
   "source": [
    "<div id=\"handeling_missing_values\" >\n",
    "    <h3>Handeling missing values</h3>\n",
    "</div>"
   ]
  },
  {
   "cell_type": "code",
   "execution_count": 7,
   "id": "d8c9e39b-fa5a-49f1-bab9-775c1524babc",
   "metadata": {},
   "outputs": [
    {
     "data": {
      "text/plain": [
       "Unnamed: 0    0\n",
       "label         0\n",
       "text          0\n",
       "dtype: int64"
      ]
     },
     "execution_count": 7,
     "metadata": {},
     "output_type": "execute_result"
    }
   ],
   "source": [
    "df.isna().sum()"
   ]
  },
  {
   "cell_type": "markdown",
   "id": "c1f0d928-3f99-4c12-ad52-5da735ce90f5",
   "metadata": {},
   "source": [
    "<div id=\"remove_irrelevant_columns\">\n",
    "    <h3>Remove irrelevant columns</h3>\n",
    "</div>"
   ]
  },
  {
   "cell_type": "code",
   "execution_count": 10,
   "id": "8e728b51-8d40-40e7-a688-6880675fdd00",
   "metadata": {},
   "outputs": [],
   "source": [
    "df.drop(columns=[\"Unnamed: 0\"], inplace=True)"
   ]
  },
  {
   "cell_type": "code",
   "execution_count": 11,
   "id": "6ceff435-5a68-4b48-aecc-e8503762a780",
   "metadata": {},
   "outputs": [
    {
     "data": {
      "text/plain": [
       "Index(['label', 'text'], dtype='object')"
      ]
     },
     "execution_count": 11,
     "metadata": {},
     "output_type": "execute_result"
    }
   ],
   "source": [
    "df.columns"
   ]
  },
  {
   "cell_type": "markdown",
   "id": "d5375f3d-5fcd-4f3c-a526-7669b9095b81",
   "metadata": {},
   "source": [
    "<div id=\"columns_renaming\" >\n",
    "    <h3>Columns renaming</h3>\n",
    "</div>"
   ]
  },
  {
   "cell_type": "code",
   "execution_count": 12,
   "id": "daed9e90-b261-4906-9ea9-3e9a8640708c",
   "metadata": {},
   "outputs": [],
   "source": [
    "df.rename(columns={\"label\": \"class\", \"text\": \"content\"}, inplace=True)"
   ]
  },
  {
   "cell_type": "code",
   "execution_count": 13,
   "id": "7cba1687-6da2-4ad4-a59c-b376d6f273f0",
   "metadata": {},
   "outputs": [
    {
     "data": {
      "text/plain": [
       "Index(['class', 'content'], dtype='object')"
      ]
     },
     "execution_count": 13,
     "metadata": {},
     "output_type": "execute_result"
    }
   ],
   "source": [
    "df.columns"
   ]
  },
  {
   "cell_type": "markdown",
   "id": "3ada7b39-613f-4e07-af43-1dae8a5f069a",
   "metadata": {},
   "source": [
    "<div id=\"handeling_duplicates\" >\n",
    "    <h3>Handeling duplicates</h3>\n",
    "</div>"
   ]
  },
  {
   "cell_type": "code",
   "execution_count": 14,
   "id": "d5f25af0-a8d1-4e89-a6ba-56a59b75db8a",
   "metadata": {},
   "outputs": [
    {
     "data": {
      "text/plain": [
       "178"
      ]
     },
     "execution_count": 14,
     "metadata": {},
     "output_type": "execute_result"
    }
   ],
   "source": [
    "df[\"content\"].duplicated().sum()"
   ]
  },
  {
   "cell_type": "code",
   "execution_count": 15,
   "id": "629798ee-5cf5-42e3-ac96-f67bd5501cf3",
   "metadata": {},
   "outputs": [],
   "source": [
    "df.drop_duplicates(subset=\"content\", inplace=True)"
   ]
  },
  {
   "cell_type": "markdown",
   "id": "91e781f7-3955-404f-87dd-067bc92b85f3",
   "metadata": {},
   "source": [
    "<div id=\"feature_extraction\" >\n",
    "    <h3>Feature extraction</h3>\n",
    "</div>"
   ]
  },
  {
   "cell_type": "markdown",
   "id": "722a9c0f-13ff-403a-9ac6-501daec2d83b",
   "metadata": {},
   "source": [
    "- In this section we are going to save some information that will be lost after text cleaning,but we think that they maybe usefull features."
   ]
  },
  {
   "cell_type": "markdown",
   "id": "04bbdc1b-8ed4-4e6b-9569-b12e1003bff5",
   "metadata": {},
   "source": [
    "#### urls"
   ]
  },
  {
   "cell_type": "code",
   "execution_count": 16,
   "id": "2f07bef0-5f3d-489d-8e51-a8cc73d0176f",
   "metadata": {},
   "outputs": [],
   "source": [
    "url_regex = re.compile(\"(?P<url>https?://[^\\s]+)\")"
   ]
  },
  {
   "cell_type": "code",
   "execution_count": 17,
   "id": "ecd296e5-c92e-4b2c-9747-828ad8c1a2eb",
   "metadata": {},
   "outputs": [],
   "source": [
    "def get_urls_count(txt):\n",
    "    return len(re.findall(url_regex, txt))"
   ]
  },
  {
   "cell_type": "code",
   "execution_count": 18,
   "id": "c13bd361-3ea1-4d56-b927-bdaa3a84ca9b",
   "metadata": {},
   "outputs": [],
   "source": [
    "df[\"urls_count\"] = df[\"content\"].apply(get_urls_count)"
   ]
  },
  {
   "cell_type": "markdown",
   "id": "6fa3df35-572d-461e-af17-6d635166a6e9",
   "metadata": {},
   "source": [
    "#### digits"
   ]
  },
  {
   "cell_type": "code",
   "execution_count": 19,
   "id": "a1494b2e-7a4f-4685-80ed-00629f4b9bbb",
   "metadata": {},
   "outputs": [],
   "source": [
    "digits_regex = re.compile(\"[0-9]+\")"
   ]
  },
  {
   "cell_type": "code",
   "execution_count": 20,
   "id": "b2b06da2-3b98-4b7e-8be3-f11a39cd9028",
   "metadata": {},
   "outputs": [],
   "source": [
    "def get_digits_count(txt):\n",
    "    return len(re.findall(digits_regex, txt))"
   ]
  },
  {
   "cell_type": "code",
   "execution_count": 21,
   "id": "1bc8ae07-3fc8-4fe1-ac8c-68ca60f2dd3e",
   "metadata": {},
   "outputs": [],
   "source": [
    "df[\"digits_count\"] = df[\"content\"].apply(get_digits_count)"
   ]
  },
  {
   "cell_type": "markdown",
   "id": "6aad2219-e0c5-455f-b0bd-adc33c6f1d82",
   "metadata": {},
   "source": [
    "#### currency symbols"
   ]
  },
  {
   "cell_type": "code",
   "execution_count": 22,
   "id": "110912a1-138e-4975-ad02-ef317546059c",
   "metadata": {},
   "outputs": [],
   "source": [
    "curr_symbols = re.compile(r'[€$£¥]')"
   ]
  },
  {
   "cell_type": "code",
   "execution_count": 23,
   "id": "e7874f89-983d-4e42-b0f4-866e166eb43c",
   "metadata": {},
   "outputs": [],
   "source": [
    "def contains_curr_symbols(txt):\n",
    "    return len(re.findall(curr_symbols, txt)) > 0"
   ]
  },
  {
   "cell_type": "code",
   "execution_count": 24,
   "id": "f2cfc9d6-8c4d-4d5e-aa79-c9c0210772d5",
   "metadata": {},
   "outputs": [],
   "source": [
    "df[\"contains_currency_symbols\"] = df[\"content\"].apply(contains_curr_symbols)"
   ]
  },
  {
   "cell_type": "markdown",
   "id": "531b7fd8-2f82-43f5-979f-f8ba5c02c05d",
   "metadata": {},
   "source": [
    "#### Text length"
   ]
  },
  {
   "cell_type": "code",
   "execution_count": 25,
   "id": "e651f2a4-d2d3-41fa-a139-a97962127ac5",
   "metadata": {},
   "outputs": [],
   "source": [
    "df[\"length\"] = df[\"content\"].apply(len)"
   ]
  },
  {
   "cell_type": "markdown",
   "id": "341ca202-cddf-4ecd-b969-2c295f243112",
   "metadata": {},
   "source": [
    "<div id=\"text_cleaning_and_preprocessing\" >\n",
    "    <h3>Text cleaning and preprocessing</h3>\n",
    "</div>"
   ]
  },
  {
   "cell_type": "code",
   "execution_count": 26,
   "id": "b4f83a34-f5b5-4279-b621-775814284ca7",
   "metadata": {},
   "outputs": [],
   "source": [
    "stop_words = set(nltk.corpus.stopwords.words(\"english\"))"
   ]
  },
  {
   "cell_type": "code",
   "execution_count": 27,
   "id": "25b2780b-286c-4d01-8b22-fd05716d318c",
   "metadata": {},
   "outputs": [],
   "source": [
    "spetial_chars = set(string.printable) - set(string.ascii_letters) - set(\" \")\n",
    "escaped_chars = [re.escape(c) for c in spetial_chars]\n",
    "regex = re.compile(f\"({'|'.join(escaped_chars)})\")"
   ]
  },
  {
   "cell_type": "code",
   "execution_count": 28,
   "id": "64733fac-3011-48a1-ad9a-31fd5f21ba63",
   "metadata": {},
   "outputs": [],
   "source": [
    "stemmer = nltk.stem.porter.PorterStemmer()"
   ]
  },
  {
   "cell_type": "code",
   "execution_count": 29,
   "id": "3c1acc90-156f-490f-80f8-dab56f0de7f4",
   "metadata": {},
   "outputs": [],
   "source": [
    "def transform(text):\n",
    "\n",
    "    # capitalization\n",
    "    text = text.lower()\n",
    "\n",
    "    # remove urls\n",
    "    text = re.sub(url_regex,\" \",text)\n",
    "    \n",
    "    # tokenization\n",
    "    text = nltk.word_tokenize(text, language='english')\n",
    "        \n",
    "    # stop words removal\n",
    "    text = [word for word in text if word not in stop_words]\n",
    "    \n",
    "    # noise removal\n",
    "    text = [word for word in text if word.isalpha()]\n",
    "    \n",
    "    # stemming\n",
    "    text = [stemmer.stem(word) for word in text]\n",
    "    \n",
    "    return ' '.join(text)"
   ]
  },
  {
   "cell_type": "code",
   "execution_count": 30,
   "id": "442260af-a2e6-4dd6-94ac-b128025ba967",
   "metadata": {},
   "outputs": [
    {
     "data": {
      "application/vnd.jupyter.widget-view+json": {
       "model_id": "913c9d3e2dce4349beed0a345a98356a",
       "version_major": 2,
       "version_minor": 0
      },
      "text/plain": [
       "  0%|          | 0/4993 [00:00<?, ?it/s]"
      ]
     },
     "metadata": {},
     "output_type": "display_data"
    }
   ],
   "source": [
    "df[\"content\"] = df[\"content\"].progress_apply(transform)"
   ]
  },
  {
   "cell_type": "markdown",
   "id": "7bdaf09e-6d18-4895-8220-931bd6dd3a22",
   "metadata": {},
   "source": [
    "<div id=\"outliers_handeling\" >\n",
    "    <h3>Ouliers handeling</h3>\n",
    "</div>"
   ]
  },
  {
   "cell_type": "code",
   "execution_count": 31,
   "id": "02ad409a-1515-4e8f-887e-cc84fcfa774d",
   "metadata": {},
   "outputs": [],
   "source": [
    "model = Pipeline(steps=[\n",
    "    (\"feature extraction\", CountVectorizer()),\n",
    "    (\"estimator\", IsolationForest())\n",
    "])"
   ]
  },
  {
   "cell_type": "code",
   "execution_count": 32,
   "id": "0f45552f-d503-4d55-a0b6-a4ff9ad3d563",
   "metadata": {},
   "outputs": [
    {
     "data": {
      "text/html": [
       "<style>#sk-container-id-1 {color: black;}#sk-container-id-1 pre{padding: 0;}#sk-container-id-1 div.sk-toggleable {background-color: white;}#sk-container-id-1 label.sk-toggleable__label {cursor: pointer;display: block;width: 100%;margin-bottom: 0;padding: 0.3em;box-sizing: border-box;text-align: center;}#sk-container-id-1 label.sk-toggleable__label-arrow:before {content: \"▸\";float: left;margin-right: 0.25em;color: #696969;}#sk-container-id-1 label.sk-toggleable__label-arrow:hover:before {color: black;}#sk-container-id-1 div.sk-estimator:hover label.sk-toggleable__label-arrow:before {color: black;}#sk-container-id-1 div.sk-toggleable__content {max-height: 0;max-width: 0;overflow: hidden;text-align: left;background-color: #f0f8ff;}#sk-container-id-1 div.sk-toggleable__content pre {margin: 0.2em;color: black;border-radius: 0.25em;background-color: #f0f8ff;}#sk-container-id-1 input.sk-toggleable__control:checked~div.sk-toggleable__content {max-height: 200px;max-width: 100%;overflow: auto;}#sk-container-id-1 input.sk-toggleable__control:checked~label.sk-toggleable__label-arrow:before {content: \"▾\";}#sk-container-id-1 div.sk-estimator input.sk-toggleable__control:checked~label.sk-toggleable__label {background-color: #d4ebff;}#sk-container-id-1 div.sk-label input.sk-toggleable__control:checked~label.sk-toggleable__label {background-color: #d4ebff;}#sk-container-id-1 input.sk-hidden--visually {border: 0;clip: rect(1px 1px 1px 1px);clip: rect(1px, 1px, 1px, 1px);height: 1px;margin: -1px;overflow: hidden;padding: 0;position: absolute;width: 1px;}#sk-container-id-1 div.sk-estimator {font-family: monospace;background-color: #f0f8ff;border: 1px dotted black;border-radius: 0.25em;box-sizing: border-box;margin-bottom: 0.5em;}#sk-container-id-1 div.sk-estimator:hover {background-color: #d4ebff;}#sk-container-id-1 div.sk-parallel-item::after {content: \"\";width: 100%;border-bottom: 1px solid gray;flex-grow: 1;}#sk-container-id-1 div.sk-label:hover label.sk-toggleable__label {background-color: #d4ebff;}#sk-container-id-1 div.sk-serial::before {content: \"\";position: absolute;border-left: 1px solid gray;box-sizing: border-box;top: 0;bottom: 0;left: 50%;z-index: 0;}#sk-container-id-1 div.sk-serial {display: flex;flex-direction: column;align-items: center;background-color: white;padding-right: 0.2em;padding-left: 0.2em;position: relative;}#sk-container-id-1 div.sk-item {position: relative;z-index: 1;}#sk-container-id-1 div.sk-parallel {display: flex;align-items: stretch;justify-content: center;background-color: white;position: relative;}#sk-container-id-1 div.sk-item::before, #sk-container-id-1 div.sk-parallel-item::before {content: \"\";position: absolute;border-left: 1px solid gray;box-sizing: border-box;top: 0;bottom: 0;left: 50%;z-index: -1;}#sk-container-id-1 div.sk-parallel-item {display: flex;flex-direction: column;z-index: 1;position: relative;background-color: white;}#sk-container-id-1 div.sk-parallel-item:first-child::after {align-self: flex-end;width: 50%;}#sk-container-id-1 div.sk-parallel-item:last-child::after {align-self: flex-start;width: 50%;}#sk-container-id-1 div.sk-parallel-item:only-child::after {width: 0;}#sk-container-id-1 div.sk-dashed-wrapped {border: 1px dashed gray;margin: 0 0.4em 0.5em 0.4em;box-sizing: border-box;padding-bottom: 0.4em;background-color: white;}#sk-container-id-1 div.sk-label label {font-family: monospace;font-weight: bold;display: inline-block;line-height: 1.2em;}#sk-container-id-1 div.sk-label-container {text-align: center;}#sk-container-id-1 div.sk-container {/* jupyter's `normalize.less` sets `[hidden] { display: none; }` but bootstrap.min.css set `[hidden] { display: none !important; }` so we also need the `!important` here to be able to override the default hidden behavior on the sphinx rendered scikit-learn.org. See: https://github.com/scikit-learn/scikit-learn/issues/21755 */display: inline-block !important;position: relative;}#sk-container-id-1 div.sk-text-repr-fallback {display: none;}</style><div id=\"sk-container-id-1\" class=\"sk-top-container\"><div class=\"sk-text-repr-fallback\"><pre>Pipeline(steps=[(&#x27;feature extraction&#x27;, CountVectorizer()),\n",
       "                (&#x27;estimator&#x27;, IsolationForest())])</pre><b>In a Jupyter environment, please rerun this cell to show the HTML representation or trust the notebook. <br />On GitHub, the HTML representation is unable to render, please try loading this page with nbviewer.org.</b></div><div class=\"sk-container\" hidden><div class=\"sk-item sk-dashed-wrapped\"><div class=\"sk-label-container\"><div class=\"sk-label sk-toggleable\"><input class=\"sk-toggleable__control sk-hidden--visually\" id=\"sk-estimator-id-1\" type=\"checkbox\" ><label for=\"sk-estimator-id-1\" class=\"sk-toggleable__label sk-toggleable__label-arrow\">Pipeline</label><div class=\"sk-toggleable__content\"><pre>Pipeline(steps=[(&#x27;feature extraction&#x27;, CountVectorizer()),\n",
       "                (&#x27;estimator&#x27;, IsolationForest())])</pre></div></div></div><div class=\"sk-serial\"><div class=\"sk-item\"><div class=\"sk-estimator sk-toggleable\"><input class=\"sk-toggleable__control sk-hidden--visually\" id=\"sk-estimator-id-2\" type=\"checkbox\" ><label for=\"sk-estimator-id-2\" class=\"sk-toggleable__label sk-toggleable__label-arrow\">CountVectorizer</label><div class=\"sk-toggleable__content\"><pre>CountVectorizer()</pre></div></div></div><div class=\"sk-item\"><div class=\"sk-estimator sk-toggleable\"><input class=\"sk-toggleable__control sk-hidden--visually\" id=\"sk-estimator-id-3\" type=\"checkbox\" ><label for=\"sk-estimator-id-3\" class=\"sk-toggleable__label sk-toggleable__label-arrow\">IsolationForest</label><div class=\"sk-toggleable__content\"><pre>IsolationForest()</pre></div></div></div></div></div></div></div>"
      ],
      "text/plain": [
       "Pipeline(steps=[('feature extraction', CountVectorizer()),\n",
       "                ('estimator', IsolationForest())])"
      ]
     },
     "execution_count": 32,
     "metadata": {},
     "output_type": "execute_result"
    }
   ],
   "source": [
    "model.fit(df[\"content\"])"
   ]
  },
  {
   "cell_type": "code",
   "execution_count": 33,
   "id": "bf8f6597-03b0-483c-8f4b-174964b8a0c7",
   "metadata": {},
   "outputs": [],
   "source": [
    "predictions = model.predict(df[\"content\"])"
   ]
  },
  {
   "cell_type": "code",
   "execution_count": 34,
   "id": "22bf1e71-6078-425a-9a3f-d67ae6d54bc2",
   "metadata": {},
   "outputs": [],
   "source": [
    "values, counts = np.unique(np.concatenate([predictions, [1, -1]]), return_counts=True)\n",
    "counts = counts - 1\n",
    "n = counts[values == -1][0]"
   ]
  },
  {
   "cell_type": "code",
   "execution_count": 35,
   "id": "0b7c404b-f2cb-42a0-b996-8accca6609a0",
   "metadata": {},
   "outputs": [
    {
     "data": {
      "text/html": [
       "\n",
       "    <h5>The number of outliers is : 0</h5>\n"
      ],
      "text/plain": [
       "<IPython.core.display.HTML object>"
      ]
     },
     "metadata": {},
     "output_type": "display_data"
    }
   ],
   "source": [
    "display(HTML(f\"\"\"\n",
    "    <h5>The number of outliers is : {n}</h5>\n",
    "\"\"\"))"
   ]
  },
  {
   "cell_type": "markdown",
   "id": "067f30e0-2d9c-4ff8-b98b-6645deacb5e2",
   "metadata": {},
   "source": [
    "<div id=\"removing_data_representation_inconsistenties\" >\n",
    "    <h3>Removing data representation inconsistenties</h3>\n",
    "</div>"
   ]
  },
  {
   "cell_type": "code",
   "execution_count": 36,
   "id": "914b1bbe-1201-45c0-b3ae-639dbd5bf70f",
   "metadata": {},
   "outputs": [],
   "source": [
    "df[\"class\"] = df[\"class\"].map({\n",
    "    \"-1\":-1,\n",
    "    \"spam\": 1,\n",
    "    \"ham\": 0\n",
    "})"
   ]
  },
  {
   "cell_type": "code",
   "execution_count": 37,
   "id": "0b9db4fb-1f11-48b2-abb7-350456b59bea",
   "metadata": {},
   "outputs": [],
   "source": [
    "df[\"class\"] = df[\"class\"].astype(np.int8)"
   ]
  },
  {
   "cell_type": "markdown",
   "id": "0c711614-f716-48ae-8ab9-9fe639f70889",
   "metadata": {},
   "source": [
    "<div id=\"save_the_results_to_the_disk\" >\n",
    "    <h3>Save the results to the disk</h3>\n",
    "</div>"
   ]
  },
  {
   "cell_type": "code",
   "execution_count": 38,
   "id": "9da1dcc0-20e2-4fc6-9ae2-6a4bb77e8940",
   "metadata": {},
   "outputs": [],
   "source": [
    "df.to_csv(os.path.join(\"..\",\"data\",\"clean_df.csv\"), index=False)"
   ]
  }
 ],
 "metadata": {
  "kernelspec": {
   "display_name": "Python 3 (ipykernel)",
   "language": "python",
   "name": "python3"
  },
  "language_info": {
   "codemirror_mode": {
    "name": "ipython",
    "version": 3
   },
   "file_extension": ".py",
   "mimetype": "text/x-python",
   "name": "python",
   "nbconvert_exporter": "python",
   "pygments_lexer": "ipython3",
   "version": "3.11.5"
  }
 },
 "nbformat": 4,
 "nbformat_minor": 5
}
